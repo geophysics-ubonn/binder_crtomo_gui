{
 "cells": [
  {
   "cell_type": "code",
   "execution_count": null,
   "id": "4409b749-0fb4-4f60-8cb2-1bcc1a421561",
   "metadata": {},
   "outputs": [],
   "source": [
    "import crtomo.notebook.nb as crtomo_nb\n",
    "gui = crtomo_nb.processing_workflow_v1()\n",
    "gui.show_gui()"
   ]
  },
  {
   "cell_type": "code",
   "execution_count": null,
   "id": "bf4f6838-b821-49c1-a86a-9636aabc1e49",
   "metadata": {},
   "outputs": [],
   "source": []
  },
  {
   "cell_type": "code",
   "execution_count": null,
   "id": "b86b0c46-1cd2-4805-96ed-946509e1f477",
   "metadata": {},
   "outputs": [],
   "source": []
  }
 ],
 "metadata": {
  "kernelspec": {
   "display_name": "Python 3 (ipykernel)",
   "language": "python",
   "name": "python3"
  },
  "language_info": {
   "codemirror_mode": {
    "name": "ipython",
    "version": 3
   },
   "file_extension": ".py",
   "mimetype": "text/x-python",
   "name": "python",
   "nbconvert_exporter": "python",
   "pygments_lexer": "ipython3",
   "version": "3.11.2"
  }
 },
 "nbformat": 4,
 "nbformat_minor": 5
}
